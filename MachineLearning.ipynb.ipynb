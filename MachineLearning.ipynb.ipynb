{
 "cells": [
  {
   "cell_type": "code",
   "execution_count": 27,
   "id": "e229e00a-abd7-4cfa-a692-c275b7c11708",
   "metadata": {},
   "outputs": [
    {
     "name": "stdout",
     "output_type": "stream",
     "text": [
      "1.6.1\n"
     ]
    }
   ],
   "source": [
    "import pandas as pd\n",
    "import numpy as np\n",
    "import matplotlib.pyplot as plt\n",
    "import seaborn as sns\n",
    "import joblib\n",
    "import sklearn\n",
    "import sklearn.ensemble as ek\n",
    "np.random.seed(42)\n",
    "from sklearn.neighbors import KNeighborsClassifier\n",
    "from IPython.display import display\n",
    "from sklearn.tree import DecisionTreeClassifier\n",
    "from sklearn.metrics import classification_report\n",
    "from sklearn.ensemble import RandomForestClassifier\n",
    "from sklearn.model_selection import train_test_split, learning_curve,  cross_val_score\n",
    "from sklearn.metrics import accuracy_score, confusion_matrix, precision_score, recall_score, f1_score\n",
    "print(sklearn.__version__)\n"
   ]
  },
  {
   "cell_type": "markdown",
   "id": "2ad74f77-5125-4e57-9e4f-e1b004dcf09f",
   "metadata": {},
   "source": [
    "#Load the filtered dataset"
   ]
  },
  {
   "cell_type": "code",
   "execution_count": 28,
   "id": "a4867287-2372-485b-9e4c-ed4f09b435c1",
   "metadata": {},
   "outputs": [],
   "source": [
    "dataset = pd.read_csv('filtered_dataset.csv')"
   ]
  },
  {
   "cell_type": "code",
   "execution_count": 29,
   "id": "ab1ab101-d58c-4cd8-9b59-37c85ea8d2e4",
   "metadata": {},
   "outputs": [
    {
     "data": {
      "text/html": [
       "<div>\n",
       "<style scoped>\n",
       "    .dataframe tbody tr th:only-of-type {\n",
       "        vertical-align: middle;\n",
       "    }\n",
       "\n",
       "    .dataframe tbody tr th {\n",
       "        vertical-align: top;\n",
       "    }\n",
       "\n",
       "    .dataframe thead th {\n",
       "        text-align: right;\n",
       "    }\n",
       "</style>\n",
       "<table border=\"1\" class=\"dataframe\">\n",
       "  <thead>\n",
       "    <tr style=\"text-align: right;\">\n",
       "      <th></th>\n",
       "      <th>MajorLinkerVersion</th>\n",
       "      <th>MinorOperatingSystemVersion</th>\n",
       "      <th>MajorSubsystemVersion</th>\n",
       "      <th>SizeOfStackReserve</th>\n",
       "      <th>TimeDateStamp</th>\n",
       "      <th>MajorOperatingSystemVersion</th>\n",
       "      <th>Characteristics</th>\n",
       "      <th>ImageBase</th>\n",
       "      <th>Subsystem</th>\n",
       "      <th>MinorImageVersion</th>\n",
       "      <th>...</th>\n",
       "      <th>ImageDirectoryEntryExport</th>\n",
       "      <th>CheckSum</th>\n",
       "      <th>DirectoryEntryImportSize</th>\n",
       "      <th>SectionMaxChar</th>\n",
       "      <th>MajorImageVersion</th>\n",
       "      <th>AddressOfEntryPoint</th>\n",
       "      <th>SectionMinEntropy</th>\n",
       "      <th>SizeOfHeaders</th>\n",
       "      <th>SectionMinVirtualsize</th>\n",
       "      <th>Malware</th>\n",
       "    </tr>\n",
       "  </thead>\n",
       "  <tbody>\n",
       "    <tr>\n",
       "      <th>0</th>\n",
       "      <td>8</td>\n",
       "      <td>0</td>\n",
       "      <td>5</td>\n",
       "      <td>524288</td>\n",
       "      <td>1236512358</td>\n",
       "      <td>6</td>\n",
       "      <td>34</td>\n",
       "      <td>4294967296</td>\n",
       "      <td>2</td>\n",
       "      <td>0</td>\n",
       "      <td>...</td>\n",
       "      <td>0</td>\n",
       "      <td>295281</td>\n",
       "      <td>152</td>\n",
       "      <td>3758096608</td>\n",
       "      <td>6</td>\n",
       "      <td>51316</td>\n",
       "      <td>0.000000</td>\n",
       "      <td>1024</td>\n",
       "      <td>274</td>\n",
       "      <td>1</td>\n",
       "    </tr>\n",
       "    <tr>\n",
       "      <th>1</th>\n",
       "      <td>9</td>\n",
       "      <td>0</td>\n",
       "      <td>5</td>\n",
       "      <td>1048576</td>\n",
       "      <td>1365109591</td>\n",
       "      <td>5</td>\n",
       "      <td>258</td>\n",
       "      <td>4194304</td>\n",
       "      <td>2</td>\n",
       "      <td>0</td>\n",
       "      <td>...</td>\n",
       "      <td>0</td>\n",
       "      <td>0</td>\n",
       "      <td>311</td>\n",
       "      <td>3791650880</td>\n",
       "      <td>0</td>\n",
       "      <td>84654</td>\n",
       "      <td>3.815281</td>\n",
       "      <td>1024</td>\n",
       "      <td>24124</td>\n",
       "      <td>1</td>\n",
       "    </tr>\n",
       "    <tr>\n",
       "      <th>2</th>\n",
       "      <td>6</td>\n",
       "      <td>0</td>\n",
       "      <td>4</td>\n",
       "      <td>1048576</td>\n",
       "      <td>1438777028</td>\n",
       "      <td>4</td>\n",
       "      <td>14</td>\n",
       "      <td>4194304</td>\n",
       "      <td>2</td>\n",
       "      <td>0</td>\n",
       "      <td>...</td>\n",
       "      <td>0</td>\n",
       "      <td>0</td>\n",
       "      <td>176</td>\n",
       "      <td>3221225536</td>\n",
       "      <td>0</td>\n",
       "      <td>27364</td>\n",
       "      <td>0.103538</td>\n",
       "      <td>4096</td>\n",
       "      <td>329</td>\n",
       "      <td>1</td>\n",
       "    </tr>\n",
       "    <tr>\n",
       "      <th>3</th>\n",
       "      <td>2</td>\n",
       "      <td>0</td>\n",
       "      <td>4</td>\n",
       "      <td>2097152</td>\n",
       "      <td>1354629311</td>\n",
       "      <td>4</td>\n",
       "      <td>783</td>\n",
       "      <td>4194304</td>\n",
       "      <td>2</td>\n",
       "      <td>0</td>\n",
       "      <td>...</td>\n",
       "      <td>0</td>\n",
       "      <td>14174816</td>\n",
       "      <td>155</td>\n",
       "      <td>3224371328</td>\n",
       "      <td>6</td>\n",
       "      <td>16685</td>\n",
       "      <td>0.000000</td>\n",
       "      <td>1024</td>\n",
       "      <td>144</td>\n",
       "      <td>1</td>\n",
       "    </tr>\n",
       "    <tr>\n",
       "      <th>4</th>\n",
       "      <td>2</td>\n",
       "      <td>0</td>\n",
       "      <td>4</td>\n",
       "      <td>2097152</td>\n",
       "      <td>1386631250</td>\n",
       "      <td>4</td>\n",
       "      <td>783</td>\n",
       "      <td>4194304</td>\n",
       "      <td>2</td>\n",
       "      <td>0</td>\n",
       "      <td>...</td>\n",
       "      <td>0</td>\n",
       "      <td>0</td>\n",
       "      <td>43</td>\n",
       "      <td>3227516992</td>\n",
       "      <td>1</td>\n",
       "      <td>4416</td>\n",
       "      <td>0.000000</td>\n",
       "      <td>1024</td>\n",
       "      <td>24</td>\n",
       "      <td>1</td>\n",
       "    </tr>\n",
       "  </tbody>\n",
       "</table>\n",
       "<p>5 rows × 24 columns</p>\n",
       "</div>"
      ],
      "text/plain": [
       "   MajorLinkerVersion  MinorOperatingSystemVersion  MajorSubsystemVersion  \\\n",
       "0                   8                            0                      5   \n",
       "1                   9                            0                      5   \n",
       "2                   6                            0                      4   \n",
       "3                   2                            0                      4   \n",
       "4                   2                            0                      4   \n",
       "\n",
       "   SizeOfStackReserve  TimeDateStamp  MajorOperatingSystemVersion  \\\n",
       "0              524288     1236512358                            6   \n",
       "1             1048576     1365109591                            5   \n",
       "2             1048576     1438777028                            4   \n",
       "3             2097152     1354629311                            4   \n",
       "4             2097152     1386631250                            4   \n",
       "\n",
       "   Characteristics   ImageBase  Subsystem  MinorImageVersion  ...  \\\n",
       "0               34  4294967296          2                  0  ...   \n",
       "1              258     4194304          2                  0  ...   \n",
       "2               14     4194304          2                  0  ...   \n",
       "3              783     4194304          2                  0  ...   \n",
       "4              783     4194304          2                  0  ...   \n",
       "\n",
       "   ImageDirectoryEntryExport  CheckSum  DirectoryEntryImportSize  \\\n",
       "0                          0    295281                       152   \n",
       "1                          0         0                       311   \n",
       "2                          0         0                       176   \n",
       "3                          0  14174816                       155   \n",
       "4                          0         0                        43   \n",
       "\n",
       "   SectionMaxChar  MajorImageVersion  AddressOfEntryPoint  SectionMinEntropy  \\\n",
       "0      3758096608                  6                51316           0.000000   \n",
       "1      3791650880                  0                84654           3.815281   \n",
       "2      3221225536                  0                27364           0.103538   \n",
       "3      3224371328                  6                16685           0.000000   \n",
       "4      3227516992                  1                 4416           0.000000   \n",
       "\n",
       "   SizeOfHeaders  SectionMinVirtualsize  Malware  \n",
       "0           1024                    274        1  \n",
       "1           1024                  24124        1  \n",
       "2           4096                    329        1  \n",
       "3           1024                    144        1  \n",
       "4           1024                     24        1  \n",
       "\n",
       "[5 rows x 24 columns]"
      ]
     },
     "execution_count": 29,
     "metadata": {},
     "output_type": "execute_result"
    }
   ],
   "source": [
    "dataset.head()"
   ]
  },
  {
   "cell_type": "code",
   "execution_count": 30,
   "id": "23d1c572-493f-4d63-9a73-b8ff4b68973a",
   "metadata": {},
   "outputs": [],
   "source": [
    "# Separate X and y\n",
    "\n",
    "X  = dataset.drop(['Malware'], axis=1)\n",
    "y = dataset['Malware']"
   ]
  },
  {
   "cell_type": "code",
   "execution_count": 31,
   "id": "61f365cc-cca5-41a4-9a64-9fb109f56d80",
   "metadata": {},
   "outputs": [
    {
     "data": {
      "text/plain": [
       "(19611, 23)"
      ]
     },
     "execution_count": 31,
     "metadata": {},
     "output_type": "execute_result"
    }
   ],
   "source": [
    "X.shape"
   ]
  },
  {
   "cell_type": "code",
   "execution_count": 32,
   "id": "9c0b9468-f705-4f0e-a54d-2121bd01dc5c",
   "metadata": {},
   "outputs": [],
   "source": [
    "# Spliting the dataset into Trainign Set and Test set at 80:20 ratio\n",
    "\n",
    "X_train, X_test, y_train, y_test = train_test_split(X, y, test_size=0.2, random_state=42, stratify=y)"
   ]
  },
  {
   "cell_type": "code",
   "execution_count": 33,
   "id": "d08fc9ba-d68d-4ecd-86fc-27e6ec718666",
   "metadata": {},
   "outputs": [
    {
     "data": {
      "text/plain": [
       "(15688, 23)"
      ]
     },
     "execution_count": 33,
     "metadata": {},
     "output_type": "execute_result"
    }
   ],
   "source": [
    "X_train.shape"
   ]
  },
  {
   "cell_type": "code",
   "execution_count": 34,
   "id": "bb5d3f58-2006-4ebb-92bd-39c58937ee61",
   "metadata": {},
   "outputs": [
    {
     "data": {
      "text/plain": [
       "(3923, 23)"
      ]
     },
     "execution_count": 34,
     "metadata": {},
     "output_type": "execute_result"
    }
   ],
   "source": [
    "X_test.shape"
   ]
  },
  {
   "cell_type": "code",
   "execution_count": 35,
   "id": "2ebae633-9ab8-4a5e-8619-85a2f409a0e4",
   "metadata": {},
   "outputs": [],
   "source": [
    "# Empty lists to store the model performance results\n",
    "\n",
    "ML_Model = []\n",
    "Accuracy = []\n",
    "F1_score = []\n",
    "Recall = []\n",
    "Precision = []\n",
    "\n",
    "\n",
    "def storeResults(model, a,b,c,d):\n",
    "  ML_Model.append(model)\n",
    "  Accuracy.append(round(a, 3))\n",
    "  F1_score.append(round(b, 3))\n",
    "  Recall.append(round(c, 3))\n",
    "  Precision.append(round(d, 3))"
   ]
  },
  {
   "cell_type": "markdown",
   "id": "bee6eff6-c125-42a4-ac9c-4565f726d5f0",
   "metadata": {},
   "source": [
    "#Model 1: Support Vector Classifier"
   ]
  },
  {
   "cell_type": "code",
   "execution_count": 36,
   "id": "74eba849-f0f4-45ae-add4-25024ace8387",
   "metadata": {},
   "outputs": [
    {
     "name": "stdout",
     "output_type": "stream",
     "text": [
      "25.33775172062197\n"
     ]
    },
    {
     "name": "stderr",
     "output_type": "stream",
     "text": [
      "C:\\Users\\DELL\\anaconda3\\Lib\\site-packages\\sklearn\\svm\\_base.py:305: ConvergenceWarning: Solver terminated early (max_iter=10000).  Consider pre-processing your data with StandardScaler or MinMaxScaler.\n",
      "  warnings.warn(\n"
     ]
    }
   ],
   "source": [
    "from sklearn.svm import SVC\n",
    "\n",
    "# Call the SVC model\n",
    "svc = SVC(kernel=\"linear\", C=1, max_iter=10000, random_state=42)\n",
    "\n",
    "# Train the model with the train data\n",
    "svc.fit(X_train, y_train)\n",
    "\n",
    "\n",
    "# Ask the model to make predictions using test data\n",
    "svc_prediction = svc.predict(X_test)\n",
    "\n",
    "\n",
    "# Calculate the accuracy value of the DT model\n",
    "svc_accuracy = accuracy_score(y_test,  svc_prediction )*100\n",
    "\n",
    "print(svc_accuracy)"
   ]
  },
  {
   "cell_type": "code",
   "execution_count": 25,
   "id": "870c06e0-c096-439a-be34-2ceaff94ac03",
   "metadata": {
    "scrolled": true
   },
   "outputs": [
    {
     "data": {
      "image/png": "[encoded data removed]",
      "text/plain": [
       "<Figure size 640x480 with 2 Axes>"
      ]
     },
     "metadata": {},
     "output_type": "display_data"
    }
   ],
   "source": [
    "# Generate the confusion matrix for the test result\n",
    "\n",
    "confMatrix = confusion_matrix(y_true=y_test, y_pred=svc_prediction )\n",
    "\n",
    "labels = np.unique(np.concatenate((y_test, svc_prediction)))\n",
    "\n",
    "\n",
    "sns.heatmap(confMatrix, annot=True, fmt=\"d\", cmap=\"YlOrRd\",\n",
    "            xticklabels=labels, yticklabels=labels)\n",
    "\n",
    "plt.xlabel(\"Predicted Labels\")\n",
    "plt.ylabel(\"True Labels\")\n",
    "plt.title(\"Confusion Matrix\")\n",
    "plt.show()"
   ]
  },
  {
   "cell_type": "code",
   "execution_count": 37,
   "id": "e99e45a8-b33a-4ab3-ac7b-17d3420f943e",
   "metadata": {},
   "outputs": [
    {
     "name": "stdout",
     "output_type": "stream",
     "text": [
      "Accuracy:  25.33775172062197\n",
      "Precision:  0.0\n",
      "Recall:  0.0\n",
      "F1 score:  0.0\n"
     ]
    }
   ],
   "source": [
    "# Evaluation metrics\n",
    "\n",
    "\n",
    "svc_Accuracy = accuracy_score(y_true = y_test, y_pred = svc_prediction)*100\n",
    "svc_Precision = precision_score(y_true = y_test, y_pred = svc_prediction)*100\n",
    "svc_Recall = recall_score(y_true = y_test, y_pred = svc_prediction)*100\n",
    "svc_F1_score = f1_score(y_true = y_test, y_pred = svc_prediction)*100\n",
    "\n",
    "\n",
    "print('Accuracy: ', svc_Accuracy)\n",
    "print('Precision: ', svc_Precision)\n",
    "print('Recall: ', svc_Recall)\n",
    "print('F1 score: ', svc_F1_score)"
   ]
  },
  {
   "cell_type": "code",
   "execution_count": 38,
   "id": "0df3a0a4-2236-4196-aa29-46cbd8ff7973",
   "metadata": {},
   "outputs": [],
   "source": [
    "#storing the results. The below mentioned order of parameter passing is important.\n",
    "\n",
    "storeResults('Support Vector Classifier',svc_Accuracy,svc_F1_score,\n",
    "             svc_Recall ,svc_Precision)"
   ]
  },
  {
   "cell_type": "code",
   "execution_count": 58,
   "id": "f1175708-d1a6-4780-961b-cfc27bf18a50",
   "metadata": {},
   "outputs": [
    {
     "data": {
      "text/plain": [
       "['svc.pkl']"
      ]
     },
     "execution_count": 58,
     "metadata": {},
     "output_type": "execute_result"
    }
   ],
   "source": [
    "# Save the trained model to a file\n",
    "\n",
    "\n",
    "joblib.dump(svc, 'svc.pkl')"
   ]
  },
  {
   "cell_type": "markdown",
   "id": "e12c2eca-9daa-48bb-a106-d0f43a982c19",
   "metadata": {},
   "source": [
    "#Model 2: Decision Tree Classifier"
   ]
  },
  {
   "cell_type": "code",
   "execution_count": 40,
   "id": "04879394-ba9a-4be1-b649-74f5aa6338e2",
   "metadata": {},
   "outputs": [
    {
     "name": "stdout",
     "output_type": "stream",
     "text": [
      "98.87840938057609\n"
     ]
    }
   ],
   "source": [
    "# Call the Decision Tree model with max depth = 10\n",
    "\n",
    "dtree = DecisionTreeClassifier(max_depth=10)\n",
    "\n",
    "# Train the model with the train data\n",
    "\n",
    "dtree.fit(X_train, y_train)\n",
    "\n",
    "# Ask the model to make predictions using test data\n",
    "\n",
    "dtree_prediction = dtree.predict(X_test)\n",
    "\n",
    "# Calculate the accuracy value of the DT model\n",
    "\n",
    "dtree_accuracy = accuracy_score(y_test,  dtree_prediction)*100\n",
    "\n",
    "print(dtree_accuracy)"
   ]
  },
  {
   "cell_type": "code",
   "execution_count": 92,
   "id": "8c3bf0f6-444f-4cd7-aecc-0922f3dd1cb6",
   "metadata": {},
   "outputs": [
    {
     "data": {
      "image/png": "[encoded data removed]",
      "text/plain": [
       "<Figure size 640x480 with 2 Axes>"
      ]
     },
     "metadata": {},
     "output_type": "display_data"
    }
   ],
   "source": [
    "# Generate the confusion matrix for the test result\n",
    "\n",
    "confMatrix = confusion_matrix(y_true=y_test, y_pred=dtree_prediction)\n",
    "\n",
    "labels = np.unique(np.concatenate((y_test, dtree_prediction)))\n",
    "\n",
    "\n",
    "sns.heatmap(confMatrix, annot=True, fmt=\"d\", cmap=\"YlOrRd\",\n",
    "            xticklabels=labels, yticklabels=labels)\n",
    "\n",
    "plt.xlabel(\"Predicted Labels\")\n",
    "plt.ylabel(\"True Labels\")\n",
    "plt.title(\"Confusion Matrix\")\n",
    "plt.show()"
   ]
  },
  {
   "cell_type": "code",
   "execution_count": 42,
   "id": "6011bdf5-db96-4f1d-af59-181aa3c76942",
   "metadata": {},
   "outputs": [
    {
     "name": "stdout",
     "output_type": "stream",
     "text": [
      "Accuracy:  98.87840938057609\n",
      "Precision:  98.7457627118644\n",
      "Recall:  99.76027397260275\n",
      "F1 score:  99.2504258943782\n"
     ]
    }
   ],
   "source": [
    "# Evaluation metrics\n",
    "\n",
    "\n",
    "dtree_Accuracy = accuracy_score(y_true = y_test, y_pred = dtree_prediction)*100\n",
    "dtree_Precision = precision_score(y_true = y_test, y_pred = dtree_prediction)*100\n",
    "dtree_Recall = recall_score(y_true = y_test, y_pred = dtree_prediction)*100\n",
    "dtree_F1_score = f1_score(y_true = y_test, y_pred = dtree_prediction)*100\n",
    "\n",
    "\n",
    "print('Accuracy: ', dtree_Accuracy)\n",
    "print('Precision: ', dtree_Precision)\n",
    "print('Recall: ', dtree_Recall)\n",
    "print('F1 score: ', dtree_F1_score)"
   ]
  },
  {
   "cell_type": "code",
   "execution_count": 59,
   "id": "28a0ac74-ed36-486c-bb1f-cb32b53ac3a2",
   "metadata": {},
   "outputs": [],
   "source": [
    "#storing the results. The below mentioned order of parameter passing is important.\n",
    "\n",
    "storeResults('Decision Tree Classifier',dtree_Accuracy,dtree_F1_score,\n",
    "             dtree_Recall ,dtree_Precision)"
   ]
  },
  {
   "cell_type": "code",
   "execution_count": 60,
   "id": "69c93e2d-58e3-460d-8ace-18d2199fb1dc",
   "metadata": {},
   "outputs": [
    {
     "data": {
      "text/plain": [
       "['decision_tree.pkl']"
      ]
     },
     "execution_count": 60,
     "metadata": {},
     "output_type": "execute_result"
    }
   ],
   "source": [
    "# Save the trained model to a file\n",
    "\n",
    "\n",
    "joblib.dump(dtree, 'decision_tree.pkl')"
   ]
  },
  {
   "cell_type": "markdown",
   "id": "b7d7a3a1-c408-44b9-b1c3-fcd0038dd4c3",
   "metadata": {},
   "source": [
    "#Model 3: K-Nearest Neighbor Classifier"
   ]
  },
  {
   "cell_type": "code",
   "execution_count": 43,
   "id": "d0112e0d-808a-46a0-afdb-864fcb824067",
   "metadata": {},
   "outputs": [
    {
     "name": "stdout",
     "output_type": "stream",
     "text": [
      "98.31761407086414\n"
     ]
    }
   ],
   "source": [
    "# Call the KNN model with k value = 1\n",
    "\n",
    "knn = KNeighborsClassifier(n_neighbors=1)\n",
    "\n",
    "\n",
    "# Train the model with the train data\n",
    "knn.fit(X_train, y_train)\n",
    "\n",
    "\n",
    "# Ask the model to make predictions using test data\n",
    "knn_prediction = knn.predict(X_test)\n",
    "# Calculate the accuracy value of the KNN model\n",
    "\n",
    "knn_accuracy = accuracy_score(y_test, knn_prediction)*100\n",
    "\n",
    "print(knn_accuracy)"
   ]
  },
  {
   "cell_type": "code",
   "execution_count": 44,
   "id": "c62960e0-6610-4bf8-b574-e1d3f18c9073",
   "metadata": {},
   "outputs": [
    {
     "data": {
      "image/png": "[encoded data removed]",
      "text/plain": [
       "<Figure size 640x480 with 2 Axes>"
      ]
     },
     "metadata": {},
     "output_type": "display_data"
    }
   ],
   "source": [
    "# Generate the confusion matrix\n",
    "\n",
    "\n",
    "confMatrix = confusion_matrix(y_true=y_test, y_pred=knn_prediction)\n",
    "\n",
    "labels = np.unique(np.concatenate((y_test, knn_prediction)))\n",
    "\n",
    "\n",
    "sns.heatmap(confMatrix, annot=True, fmt=\"d\", cmap=\"YlOrRd\",\n",
    "            xticklabels=labels, yticklabels=labels)\n",
    "\n",
    "plt.xlabel(\"Predicted Labels\")\n",
    "plt.ylabel(\"True Labels\")\n",
    "plt.title(\"Confusion Matrix\")\n",
    "plt.show()"
   ]
  },
  {
   "cell_type": "code",
   "execution_count": 45,
   "id": "21ccc227-e063-417f-9a7d-dad39dbe8222",
   "metadata": {},
   "outputs": [
    {
     "name": "stdout",
     "output_type": "stream",
     "text": [
      "Accuracy:  98.31761407086414\n",
      "Precision:  98.66984993178718\n",
      "Recall:  99.07534246575342\n",
      "F1 score:  98.87218045112782\n"
     ]
    }
   ],
   "source": [
    "# Evaluation metrics\n",
    "\n",
    "\n",
    "knn_Accuracy = accuracy_score(y_true = y_test, y_pred = knn_prediction)*100\n",
    "knn_Precision = precision_score(y_true = y_test, y_pred = knn_prediction)*100\n",
    "knn_Recall = recall_score(y_true = y_test, y_pred = knn_prediction)*100\n",
    "knn_F1_score = f1_score(y_true = y_test, y_pred = knn_prediction)*100\n",
    "\n",
    "\n",
    "print('Accuracy: ', knn_Accuracy)\n",
    "print('Precision: ', knn_Precision)\n",
    "print('Recall: ', knn_Recall)\n",
    "print('F1 score: ', knn_F1_score)"
   ]
  },
  {
   "cell_type": "code",
   "execution_count": 62,
   "id": "c8143a67-2796-4e93-88c5-349b71d21be9",
   "metadata": {},
   "outputs": [],
   "source": [
    "#storing the results. The below mentioned order of parameter passing is important.\n",
    "\n",
    "storeResults('KNN',knn_Accuracy,knn_F1_score,\n",
    "             knn_Recall ,knn_Precision)"
   ]
  },
  {
   "cell_type": "code",
   "execution_count": 63,
   "id": "abcceebe-3b8b-4fe8-bc4c-e5425198ce25",
   "metadata": {},
   "outputs": [
    {
     "data": {
      "text/plain": [
       "['knn.pkl']"
      ]
     },
     "execution_count": 63,
     "metadata": {},
     "output_type": "execute_result"
    }
   ],
   "source": [
    "# Save the trained model to a file\n",
    "\n",
    "\n",
    "joblib.dump(knn, 'knn.pkl')"
   ]
  },
  {
   "cell_type": "markdown",
   "id": "8ca411f3-67fe-4d86-862d-c3c5c52c7264",
   "metadata": {},
   "source": [
    "#Model 4: Random Forest Classifier"
   ]
  },
  {
   "cell_type": "code",
   "execution_count": 46,
   "id": "0979382e-9ed5-4040-854d-981498da3e48",
   "metadata": {},
   "outputs": [
    {
     "name": "stdout",
     "output_type": "stream",
     "text": [
      "99.23527912312005\n"
     ]
    }
   ],
   "source": [
    "# Call the model with number of trees = 100\n",
    "\n",
    "forest =  RandomForestClassifier(n_estimators = 100)\n",
    "\n",
    "# Train the model with the train data\n",
    "\n",
    "forest.fit(X_train, y_train)\n",
    "\n",
    "# Ask the model to make predictions using test data\n",
    "\n",
    "forest_prediction = forest.predict(X_test)\n",
    "\n",
    "# Calculate the accuracy value of the DT model\n",
    "forest_accuracy = accuracy_score(y_test,  forest_prediction)*100\n",
    "\n",
    "print(forest_accuracy)"
   ]
  },
  {
   "cell_type": "code",
   "execution_count": 47,
   "id": "f34ce660-81ca-4722-9883-b7b1c468e47d",
   "metadata": {},
   "outputs": [
    {
     "data": {
      "image/png": "[encoded data removed]",
      "text/plain": [
       "<Figure size 640x480 with 2 Axes>"
      ]
     },
     "metadata": {},
     "output_type": "display_data"
    }
   ],
   "source": [
    "# Generate the confusion matrix for the test result\n",
    "\n",
    "\n",
    "confMatrix = confusion_matrix(y_true=y_test, y_pred=forest_prediction)\n",
    "\n",
    "labels = np.unique(np.concatenate((y_test, forest_prediction)))\n",
    "\n",
    "\n",
    "sns.heatmap(confMatrix, annot=True, fmt=\"d\", cmap=\"YlOrRd\",\n",
    "            xticklabels=labels, yticklabels=labels)\n",
    "\n",
    "plt.xlabel(\"Predicted Labels\")\n",
    "plt.ylabel(\"True Labels\")\n",
    "plt.title(\"Confusion Matrix\")\n",
    "plt.show()"
   ]
  },
  {
   "cell_type": "code",
   "execution_count": 48,
   "id": "7c64887d-f1ac-4c73-aa27-917d1859888d",
   "metadata": {},
   "outputs": [
    {
     "name": "stdout",
     "output_type": "stream",
     "text": [
      "Accuracy:  99.23527912312005\n",
      "Precision:  99.04955872369314\n",
      "Recall:  99.93150684931507\n",
      "F1 score:  99.48857824752812\n"
     ]
    }
   ],
   "source": [
    "# Evaluation metrics\n",
    "\n",
    "\n",
    "forest_Accuracy = accuracy_score(y_true = y_test, y_pred = forest_prediction)*100\n",
    "forest_Precision = precision_score(y_true = y_test, y_pred = forest_prediction)*100\n",
    "forest_Recall = recall_score(y_true = y_test, y_pred = forest_prediction)*100\n",
    "forest_F1_score = f1_score(y_true = y_test, y_pred = forest_prediction)*100\n",
    "\n",
    "\n",
    "print('Accuracy: ', forest_Accuracy)\n",
    "print('Precision: ', forest_Precision)\n",
    "print('Recall: ', forest_Recall)\n",
    "print('F1 score: ', forest_F1_score)"
   ]
  },
  {
   "cell_type": "code",
   "execution_count": 64,
   "id": "275d2442-00aa-46eb-83e0-a95aa537de7d",
   "metadata": {},
   "outputs": [],
   "source": [
    "#storing the results. The below mentioned order of parameter passing is important.\n",
    "\n",
    "storeResults('Random Forest',forest_Accuracy,forest_F1_score,\n",
    "             forest_Recall ,forest_Precision)"
   ]
  },
  {
   "cell_type": "code",
   "execution_count": 65,
   "id": "3c542691-f8ab-4b17-91ad-6b50c35699e0",
   "metadata": {},
   "outputs": [
    {
     "data": {
      "text/plain": [
       "['forest.pkl']"
      ]
     },
     "execution_count": 65,
     "metadata": {},
     "output_type": "execute_result"
    }
   ],
   "source": [
    "# Save the trained model to a file\n",
    "\n",
    "\n",
    "joblib.dump(forest, 'forest.pkl')"
   ]
  },
  {
   "cell_type": "markdown",
   "id": "358a9c0b-803f-4f18-bf05-2ba293fc18c2",
   "metadata": {},
   "source": [
    "#Model 5: XGBoost Classifier"
   ]
  },
  {
   "cell_type": "code",
   "execution_count": 66,
   "id": "29a79945-3ee9-4b81-9d31-5d70d0134de2",
   "metadata": {},
   "outputs": [
    {
     "name": "stdout",
     "output_type": "stream",
     "text": [
      "99.28626051491206\n"
     ]
    }
   ],
   "source": [
    "from xgboost import XGBClassifier\n",
    "from sklearn.preprocessing import LabelEncoder\n",
    "from sklearn.metrics import accuracy_score\n",
    "\n",
    "le = LabelEncoder()\n",
    "y_train_enc = le.fit_transform(y_train)\n",
    "y_test_enc = le.transform(y_test)\n",
    "\n",
    "# Call the model\n",
    "xgb = XGBClassifier()\n",
    "\n",
    "# Train the model with the train data\n",
    "xgb.fit(X_train, y_train_enc)\n",
    "\n",
    "# Ask the model to make predictions using test data\n",
    "xgb_prediction_enc = xgb.predict(X_test)\n",
    "\n",
    "# Convert predictions back to original labels if needed\n",
    "xgb_prediction = le.inverse_transform(xgb_prediction_enc)\n",
    "\n",
    "# Calculate the accuracy value of the model\n",
    "XGB_accuracy = accuracy_score(y_test, xgb_prediction) * 100\n",
    "print(XGB_accuracy)"
   ]
  },
  {
   "cell_type": "code",
   "execution_count": 54,
   "id": "1d39d166-d2dc-4cc2-930e-1b399e357f6b",
   "metadata": {},
   "outputs": [
    {
     "data": {
      "image/png": "[encoded data removed]",
      "text/plain": [
       "<Figure size 640x480 with 2 Axes>"
      ]
     },
     "metadata": {},
     "output_type": "display_data"
    }
   ],
   "source": [
    "# Generate the confusion matrix\n",
    "\n",
    "\n",
    "confMatrix = confusion_matrix(y_true=y_test, y_pred=xgb_prediction)\n",
    "\n",
    "labels = np.unique(np.concatenate((y_test, xgb_prediction)))\n",
    "\n",
    "\n",
    "sns.heatmap(confMatrix, annot=True, fmt=\"d\", cmap=\"YlOrRd\",\n",
    "            xticklabels=labels, yticklabels=labels)\n",
    "\n",
    "plt.xlabel(\"Predicted Labels\")\n",
    "plt.ylabel(\"True Labels\")\n",
    "plt.title(\"Confusion Matrix\")\n",
    "plt.show()"
   ]
  },
  {
   "cell_type": "code",
   "execution_count": 55,
   "id": "58cbd7a9-89ce-445c-a229-65e21ad8d752",
   "metadata": {},
   "outputs": [
    {
     "name": "stdout",
     "output_type": "stream",
     "text": [
      "Accuracy:  99.28626051491206\n",
      "Precision:  99.11684782608695\n",
      "Recall:  99.93150684931507\n",
      "F1 score:  99.5225102319236\n"
     ]
    }
   ],
   "source": [
    "# Evaluation metrics\n",
    "\n",
    "\n",
    "xgb_Accuracy = accuracy_score(y_true = y_test, y_pred = xgb_prediction)*100\n",
    "xgb_Precision = precision_score(y_true = y_test, y_pred = xgb_prediction)*100\n",
    "xgb_Recall = recall_score(y_true = y_test, y_pred = xgb_prediction)*100\n",
    "xgb_F1_score = f1_score(y_true = y_test, y_pred = xgb_prediction)*100\n",
    "\n",
    "\n",
    "print('Accuracy: ', xgb_Accuracy)\n",
    "print('Precision: ', xgb_Precision)\n",
    "print('Recall: ', xgb_Recall)\n",
    "print('F1 score: ', xgb_F1_score)"
   ]
  },
  {
   "cell_type": "code",
   "execution_count": 67,
   "id": "fd4c4369-3b24-4f10-aed8-28cff069ea21",
   "metadata": {},
   "outputs": [],
   "source": [
    "#storing the results. The below mentioned order of parameter passing is important.\n",
    "\n",
    "storeResults('XGBoost',xgb_Accuracy,xgb_F1_score,\n",
    "             xgb_Recall ,xgb_Precision)"
   ]
  },
  {
   "cell_type": "code",
   "execution_count": 68,
   "id": "de66f721-8590-4fdf-b539-14e2200dfd56",
   "metadata": {},
   "outputs": [
    {
     "data": {
      "text/plain": [
       "['xgb.pkl']"
      ]
     },
     "execution_count": 68,
     "metadata": {},
     "output_type": "execute_result"
    }
   ],
   "source": [
    "# Save the trained model to a file\n",
    "\n",
    "\n",
    "joblib.dump(xgb, 'xgb.pkl')"
   ]
  },
  {
   "cell_type": "markdown",
   "id": "dd46715f-44d7-435d-8dc8-7fb1ce6a8be6",
   "metadata": {},
   "source": [
    "#Now compare the models"
   ]
  },
  {
   "cell_type": "code",
   "execution_count": 69,
   "id": "0bf944b8-cf92-45d7-a9bb-842e5ef71c47",
   "metadata": {},
   "outputs": [],
   "source": [
    "#creating dataframe using the recorded stats\n",
    "\n",
    "\n",
    "result = pd.DataFrame({ 'ML Model' : ML_Model,\n",
    "                        'Accuracy' : Accuracy,\n",
    "                        'f1_score' : F1_score,\n",
    "                        'Recall'   : Recall,\n",
    "                        'Precision': Precision,\n",
    "                      })"
   ]
  },
  {
   "cell_type": "code",
   "execution_count": 70,
   "id": "d0df2dbe-e668-4832-9ced-65b328f4baf8",
   "metadata": {},
   "outputs": [
    {
     "data": {
      "text/html": [
       "<div>\n",
       "<style scoped>\n",
       "    .dataframe tbody tr th:only-of-type {\n",
       "        vertical-align: middle;\n",
       "    }\n",
       "\n",
       "    .dataframe tbody tr th {\n",
       "        vertical-align: top;\n",
       "    }\n",
       "\n",
       "    .dataframe thead th {\n",
       "        text-align: right;\n",
       "    }\n",
       "</style>\n",
       "<table border=\"1\" class=\"dataframe\">\n",
       "  <thead>\n",
       "    <tr style=\"text-align: right;\">\n",
       "      <th></th>\n",
       "      <th>ML Model</th>\n",
       "      <th>Accuracy</th>\n",
       "      <th>f1_score</th>\n",
       "      <th>Recall</th>\n",
       "      <th>Precision</th>\n",
       "    </tr>\n",
       "  </thead>\n",
       "  <tbody>\n",
       "    <tr>\n",
       "      <th>0</th>\n",
       "      <td>Support Vector Classifier</td>\n",
       "      <td>25.338</td>\n",
       "      <td>0.000</td>\n",
       "      <td>0.000</td>\n",
       "      <td>0.000</td>\n",
       "    </tr>\n",
       "    <tr>\n",
       "      <th>1</th>\n",
       "      <td>Decision Tree Classifier</td>\n",
       "      <td>98.878</td>\n",
       "      <td>99.250</td>\n",
       "      <td>99.760</td>\n",
       "      <td>98.746</td>\n",
       "    </tr>\n",
       "    <tr>\n",
       "      <th>2</th>\n",
       "      <td>KNN</td>\n",
       "      <td>98.318</td>\n",
       "      <td>98.872</td>\n",
       "      <td>99.075</td>\n",
       "      <td>98.670</td>\n",
       "    </tr>\n",
       "    <tr>\n",
       "      <th>3</th>\n",
       "      <td>Random Forest</td>\n",
       "      <td>99.235</td>\n",
       "      <td>99.489</td>\n",
       "      <td>99.932</td>\n",
       "      <td>99.050</td>\n",
       "    </tr>\n",
       "    <tr>\n",
       "      <th>4</th>\n",
       "      <td>XGBoost</td>\n",
       "      <td>99.286</td>\n",
       "      <td>99.523</td>\n",
       "      <td>99.932</td>\n",
       "      <td>99.117</td>\n",
       "    </tr>\n",
       "  </tbody>\n",
       "</table>\n",
       "</div>"
      ],
      "text/plain": [
       "                    ML Model  Accuracy  f1_score  Recall  Precision\n",
       "0  Support Vector Classifier    25.338     0.000   0.000      0.000\n",
       "1   Decision Tree Classifier    98.878    99.250  99.760     98.746\n",
       "2                        KNN    98.318    98.872  99.075     98.670\n",
       "3              Random Forest    99.235    99.489  99.932     99.050\n",
       "4                    XGBoost    99.286    99.523  99.932     99.117"
      ]
     },
     "execution_count": 70,
     "metadata": {},
     "output_type": "execute_result"
    }
   ],
   "source": [
    "# dispalying total result\n",
    "result"
   ]
  },
  {
   "cell_type": "code",
   "execution_count": 71,
   "id": "a55303bc-98e9-4139-b3cb-1baa6f9da23d",
   "metadata": {},
   "outputs": [
    {
     "data": {
      "image/png": "[encoded data removed]",
      "text/plain": [
       "<Figure size 1000x600 with 1 Axes>"
      ]
     },
     "metadata": {},
     "output_type": "display_data"
    }
   ],
   "source": [
    "# Now plot the graphs for comparison\n",
    "\n",
    "df_melted = result.melt(id_vars='ML Model', var_name='Metric', value_name='Score')\n",
    "\n",
    "# Plot the grouped bar chart\n",
    "plt.figure(figsize=(10, 6))\n",
    "sns.barplot(x='Metric', y='Score', hue='ML Model', data=df_melted, palette='plasma')\n",
    "\n",
    "# Labels and title\n",
    "plt.xlabel('Performance Metric')\n",
    "plt.ylabel('Score')\n",
    "plt.title('Comparison of Model Performance Metrics')\n",
    "plt.ylim(result.iloc[:, 1:].min().min() - 5, result.iloc[:, 1:].max().max() + 5)\n",
    "plt.legend(title='Model', bbox_to_anchor=(1.05, 1), loc='upper left')  # Adjust legend position\n",
    "\n",
    "# Show plot\n",
    "plt.show()"
   ]
  },
  {
   "cell_type": "code",
   "execution_count": 72,
   "id": "e818d8a7-fcdc-436a-8382-30c6e66ab06e",
   "metadata": {},
   "outputs": [],
   "source": [
    "#Test the best model"
   ]
  },
  {
   "cell_type": "code",
   "execution_count": 73,
   "id": "eb51f1e8-acba-43a0-8e10-743b8470edd6",
   "metadata": {},
   "outputs": [
    {
     "name": "stdout",
     "output_type": "stream",
     "text": [
      "Collecting pefile\n",
      "  Downloading pefile-2024.8.26-py3-none-any.whl.metadata (1.4 kB)\n",
      "Downloading pefile-2024.8.26-py3-none-any.whl (74 kB)\n",
      "Installing collected packages: pefile\n",
      "Successfully installed pefile-2024.8.26\n"
     ]
    }
   ],
   "source": [
    "!pip install pefile"
   ]
  },
  {
   "cell_type": "code",
   "execution_count": 74,
   "id": "416867ab-a9b3-4009-a721-5da3c91b8612",
   "metadata": {},
   "outputs": [],
   "source": [
    "import pefile\n",
    "import pandas as pd\n",
    "import math"
   ]
  },
  {
   "cell_type": "code",
   "execution_count": 75,
   "id": "02644fb0-f4e6-4f0c-8cc1-6f52caf501ed",
   "metadata": {},
   "outputs": [],
   "source": [
    "# Load our trained model\n",
    "\n",
    "\n",
    "import joblib\n",
    "\n",
    "# Load the trained model\n",
    "model = joblib.load('forest.pkl')"
   ]
  },
  {
   "cell_type": "code",
   "execution_count": 76,
   "id": "7a5ddba7-433d-4c89-bc14-b3ae3e102770",
   "metadata": {},
   "outputs": [],
   "source": [
    "# Code to ectract the 23 features from the uploaded test file\n",
    "\n",
    "\n",
    "\n",
    "def calculate_entropy(data):   # calculate teh Shannon entropy of a byte data\n",
    "    if not data:\n",
    "        return 0\n",
    "    entropy = 0\n",
    "    for x in range(256):\n",
    "        p_x = float(data.count(bytes([x]))) / len(data)\n",
    "        if p_x > 0:\n",
    "            entropy += - p_x * math.log(p_x, 2)\n",
    "    return entropy\n",
    "\n",
    "def extract_features(file_path):          # extracts the PE header features\n",
    "    pe = pefile.PE(file_path)\n",
    "\n",
    "    # Extract the specified 23 features in the given order\n",
    "    features = {\n",
    "        'MajorLinkerVersion': pe.OPTIONAL_HEADER.MajorLinkerVersion,\n",
    "        'MinorOperatingSystemVersion': pe.OPTIONAL_HEADER.MinorOperatingSystemVersion,\n",
    "        'MajorSubsystemVersion': pe.OPTIONAL_HEADER.MajorSubsystemVersion,\n",
    "        'SizeOfStackReserve': pe.OPTIONAL_HEADER.SizeOfStackReserve,\n",
    "        'TimeDateStamp': pe.FILE_HEADER.TimeDateStamp,\n",
    "        'MajorOperatingSystemVersion': pe.OPTIONAL_HEADER.MajorOperatingSystemVersion,\n",
    "        'Characteristics': pe.FILE_HEADER.Characteristics,\n",
    "        'ImageBase': pe.OPTIONAL_HEADER.ImageBase,\n",
    "        'Subsystem': pe.OPTIONAL_HEADER.Subsystem,\n",
    "        'MinorImageVersion': pe.OPTIONAL_HEADER.MinorImageVersion,\n",
    "        'MinorSubsystemVersion': pe.OPTIONAL_HEADER.MinorSubsystemVersion,\n",
    "        'SizeOfInitializedData': pe.OPTIONAL_HEADER.SizeOfInitializedData,\n",
    "        'DllCharacteristics': pe.OPTIONAL_HEADER.DllCharacteristics,\n",
    "        'DirectoryEntryExport': 1 if hasattr(pe, 'DIRECTORY_ENTRY_EXPORT') else 0,\n",
    "        'ImageDirectoryEntryExport': pe.OPTIONAL_HEADER.DATA_DIRECTORY[0].Size if hasattr(pe, 'DIRECTORY_ENTRY_EXPORT') else 0,\n",
    "        'CheckSum': pe.OPTIONAL_HEADER.CheckSum,\n",
    "        'DirectoryEntryImportSize': pe.OPTIONAL_HEADER.DATA_DIRECTORY[1].Size if hasattr(pe, 'DIRECTORY_ENTRY_IMPORT') else 0,\n",
    "        'SectionMaxChar': len(pe.sections),  # Example calculation for demonstration\n",
    "        'MajorImageVersion': pe.OPTIONAL_HEADER.MajorImageVersion,\n",
    "        'AddressOfEntryPoint': pe.OPTIONAL_HEADER.AddressOfEntryPoint,\n",
    "        'SectionMinEntropy': None,  # Placeholder, will be calculated\n",
    "        'SizeOfHeaders': pe.OPTIONAL_HEADER.SizeOfHeaders,\n",
    "        'SectionMinVirtualsize': None  # Placeholder, will be calculated\n",
    "    }\n",
    "\n",
    "    # Calculate SectionMinEntropy\n",
    "    entropies = []\n",
    "    for section in pe.sections:\n",
    "        entropy = calculate_entropy(section.get_data())\n",
    "        entropies.append(entropy)\n",
    "\n",
    "    if entropies:\n",
    "        features['SectionMinEntropy'] = min(entropies)\n",
    "\n",
    "    # Calculate SectionMinVirtualsize (example calculation)\n",
    "    features['SectionMinVirtualsize'] = min(section.Misc_VirtualSize for section in pe.sections)\n",
    "\n",
    "    return pd.DataFrame([features])"
   ]
  },
  {
   "cell_type": "code",
   "execution_count": 97,
   "id": "1f9de04d-cebf-4333-9753-32462e79ade1",
   "metadata": {},
   "outputs": [
    {
     "data": {
      "text/html": [
       "<div>\n",
       "<style scoped>\n",
       "    .dataframe tbody tr th:only-of-type {\n",
       "        vertical-align: middle;\n",
       "    }\n",
       "\n",
       "    .dataframe tbody tr th {\n",
       "        vertical-align: top;\n",
       "    }\n",
       "\n",
       "    .dataframe thead th {\n",
       "        text-align: right;\n",
       "    }\n",
       "</style>\n",
       "<table border=\"1\" class=\"dataframe\">\n",
       "  <thead>\n",
       "    <tr style=\"text-align: right;\">\n",
       "      <th></th>\n",
       "      <th>MajorLinkerVersion</th>\n",
       "      <th>MinorOperatingSystemVersion</th>\n",
       "      <th>MajorSubsystemVersion</th>\n",
       "      <th>SizeOfStackReserve</th>\n",
       "      <th>TimeDateStamp</th>\n",
       "      <th>MajorOperatingSystemVersion</th>\n",
       "      <th>Characteristics</th>\n",
       "      <th>ImageBase</th>\n",
       "      <th>Subsystem</th>\n",
       "      <th>MinorImageVersion</th>\n",
       "      <th>...</th>\n",
       "      <th>DirectoryEntryExport</th>\n",
       "      <th>ImageDirectoryEntryExport</th>\n",
       "      <th>CheckSum</th>\n",
       "      <th>DirectoryEntryImportSize</th>\n",
       "      <th>SectionMaxChar</th>\n",
       "      <th>MajorImageVersion</th>\n",
       "      <th>AddressOfEntryPoint</th>\n",
       "      <th>SectionMinEntropy</th>\n",
       "      <th>SizeOfHeaders</th>\n",
       "      <th>SectionMinVirtualsize</th>\n",
       "    </tr>\n",
       "  </thead>\n",
       "  <tbody>\n",
       "    <tr>\n",
       "      <th>0</th>\n",
       "      <td>14</td>\n",
       "      <td>0</td>\n",
       "      <td>10</td>\n",
       "      <td>524288</td>\n",
       "      <td>2825337592</td>\n",
       "      <td>10</td>\n",
       "      <td>34</td>\n",
       "      <td>5368709120</td>\n",
       "      <td>2</td>\n",
       "      <td>0</td>\n",
       "      <td>...</td>\n",
       "      <td>0</td>\n",
       "      <td>0</td>\n",
       "      <td>415488</td>\n",
       "      <td>1020</td>\n",
       "      <td>7</td>\n",
       "      <td>10</td>\n",
       "      <td>6560</td>\n",
       "      <td>0.253915</td>\n",
       "      <td>4096</td>\n",
       "      <td>248</td>\n",
       "    </tr>\n",
       "  </tbody>\n",
       "</table>\n",
       "<p>1 rows × 23 columns</p>\n",
       "</div>"
      ],
      "text/plain": [
       "   MajorLinkerVersion  MinorOperatingSystemVersion  MajorSubsystemVersion  \\\n",
       "0                  14                            0                     10   \n",
       "\n",
       "   SizeOfStackReserve  TimeDateStamp  MajorOperatingSystemVersion  \\\n",
       "0              524288     2825337592                           10   \n",
       "\n",
       "   Characteristics   ImageBase  Subsystem  MinorImageVersion  ...  \\\n",
       "0               34  5368709120          2                  0  ...   \n",
       "\n",
       "   DirectoryEntryExport  ImageDirectoryEntryExport  CheckSum  \\\n",
       "0                     0                          0    415488   \n",
       "\n",
       "   DirectoryEntryImportSize  SectionMaxChar  MajorImageVersion  \\\n",
       "0                      1020               7                 10   \n",
       "\n",
       "   AddressOfEntryPoint  SectionMinEntropy  SizeOfHeaders  \\\n",
       "0                 6560           0.253915           4096   \n",
       "\n",
       "   SectionMinVirtualsize  \n",
       "0                    248  \n",
       "\n",
       "[1 rows x 23 columns]"
      ]
     },
     "execution_count": 97,
     "metadata": {},
     "output_type": "execute_result"
    }
   ],
   "source": [
    "# Read a test file and apply the feature extraction function\n",
    "\n",
    "test_file = \"notepad.exe\"\n",
    "features = extract_features(test_file)\n",
    "features"
   ]
  },
  {
   "cell_type": "code",
   "execution_count": 109,
   "id": "392cea84-e6e7-4bb8-8b27-483ae069ea81",
   "metadata": {},
   "outputs": [
    {
     "name": "stdout",
     "output_type": "stream",
     "text": [
      " Volume in drive C is OS\n",
      " Volume Serial Number is 4A1F-734A\n",
      "\n",
      " Directory of C:\\Users\\DELL\\anaconda_projects\\69e919a4-894a-46d4-a8ed-f5b80383354a\n",
      "\n",
      "22-08-2025  08:02    <DIR>          .\n",
      "21-08-2025  20:55    <DIR>          ..\n",
      "21-08-2025  23:18    <DIR>          .ipynb_checkpoints\n",
      "22-08-2025  08:02           421,888 15118984482ef1bee0606b4ac461c8ed1cb6f66a2ed0de20bcd1eef898615ee1.exe\n",
      "21-08-2025  23:22            18,799 app.ipynb.ipynb\n",
      "21-08-2025  20:55         6,710,740 dataset_malwares.csv\n",
      "21-08-2025  23:05            15,673 decision_tree.pkl\n",
      "21-08-2025  22:16         2,255,192 filtered_dataset.csv\n",
      "21-08-2025  23:07         4,312,217 forest.pkl\n",
      "21-08-2025  23:07         3,013,764 knn.pkl\n",
      "22-08-2025  06:59           212,863 MachineLearning.ipynb.ipynb\n",
      "22-08-2025  05:17           360,448 notepad.exe\n",
      "21-08-2025  23:04           106,779 svc.pkl\n",
      "21-08-2025  23:21    <DIR>          uploads\n",
      "21-08-2025  23:09           212,012 xgb.pkl\n",
      "              11 File(s)     17,640,375 bytes\n",
      "               4 Dir(s)   2,595,241,984 bytes free\n"
     ]
    }
   ],
   "source": [
    "ls"
   ]
  },
  {
   "cell_type": "code",
   "execution_count": 98,
   "id": "54a39dca-951c-40ed-92eb-15b68bb24c60",
   "metadata": {},
   "outputs": [
    {
     "data": {
      "text/plain": [
       "'Safe'"
      ]
     },
     "execution_count": 98,
     "metadata": {},
     "output_type": "execute_result"
    }
   ],
   "source": [
    "# Make prediction usiing the model\n",
    "\n",
    "prediction = model.predict(features)     # Predict using your model\n",
    "\n",
    "\n",
    "result = \"Malware\" if prediction[0] == 1 else \"Safe\"\n",
    "result"
   ]
  },
  {
   "cell_type": "code",
   "execution_count": 113,
   "id": "e9fb748a-4530-4fc8-9c40-cc8e9768cd88",
   "metadata": {},
   "outputs": [
    {
     "data": {
      "text/plain": [
       "'Malware'"
      ]
     },
     "execution_count": 113,
     "metadata": {},
     "output_type": "execute_result"
    }
   ],
   "source": [
    "# test another file\n",
    "\n",
    "test_file = 'Ransomware.WannaCrypt0r.v1.exe'\n",
    "features = extract_features(test_file)\n",
    "\n",
    "prediction = model.predict(features)     # Predict using your model\n",
    "\n",
    "\n",
    "result = \"Malware\" if prediction[0] == 1 else \"Safe\"\n",
    "result"
   ]
  },
  {
   "cell_type": "code",
   "execution_count": null,
   "id": "30e52915-5f24-4b76-bb7d-c343e9bba78a",
   "metadata": {},
   "outputs": [],
   "source": []
  }
 ],
 "metadata": {
  "kernelspec": {
   "display_name": "Python [conda env:base] *",
   "language": "python",
   "name": "conda-base-py"
  },
  "language_info": {
   "codemirror_mode": {
    "name": "ipython",
    "version": 3
   },
   "file_extension": ".py",
   "mimetype": "text/x-python",
   "name": "python",
   "nbconvert_exporter": "python",
   "pygments_lexer": "ipython3",
   "version": "3.13.5"
  }
 },
 "nbformat": 4,
 "nbformat_minor": 5
}
